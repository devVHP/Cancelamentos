{
 "cells": [
  {
   "cell_type": "markdown",
   "metadata": {},
   "source": [
    "# Python Insights - Analisando Dados com Python\n",
    "\n",
    "### Case - Cancelamento de Clientes\n",
    "\n",
    "Você foi contratado por uma empresa com mais de 800 mil clientes para um projeto de Dados. Recentemente a empresa percebeu que da sua base total de clientes, a maioria são clientes inativos, ou seja, que já cancelaram o serviço.\n",
    "\n",
    "Precisando melhorar seus resultados ela quer conseguir entender os principais motivos desses cancelamentos e quais as ações mais eficientes para reduzir esse número.\n",
    "\n",
    "Base de dados e arquivos: https://drive.google.com/drive/folders/1uDesZePdkhiraJmiyeZ-w5tfc8XsNYFZ?usp=drive_link"
   ]
  },
  {
   "cell_type": "code",
   "execution_count": null,
   "metadata": {},
   "outputs": [],
   "source": [
    "# Importar a base de dados\n",
    "# Ve os tipos de arquivos\n",
    "# Limpar arquivos e excluir arquivos desnecessários\n",
    "# Tentar descobrir os principais motivos dos cancelamentos\n",
    "# Verificar quanto fica a porcentagem de cancelamento sem esses motivos\n",
    "\n",
    "# Importar a base de dados\n",
    "import pandas as pd\n",
    "\n",
    "dados = pd.read_csv('cancelamentos.csv')\n",
    "\n",
    "# Vê os tipos de arquivos       \n",
    "dados.head()"
   ]
  },
  {
   "cell_type": "code",
   "execution_count": null,
   "metadata": {},
   "outputs": [],
   "source": [
    "dados.info()\n",
    "display(dados['cancelou'].value_counts(normalize=True))\n",
    "\n",
    "# Excluindo valores vazios (Já que são poucos)\n",
    "dados = dados.dropna()\n",
    "\n",
    "dados.info()"
   ]
  },
  {
   "cell_type": "code",
   "execution_count": 8,
   "metadata": {},
   "outputs": [],
   "source": [
    "# Excluíndo dados inúteis\n",
    "excluir = ['CustomerID','sexo']\n",
    "dados = dados.drop(excluir, axis=1)\n"
   ]
  },
  {
   "cell_type": "code",
   "execution_count": null,
   "metadata": {},
   "outputs": [],
   "source": [
    "dados.info()\n",
    "display(dados)"
   ]
  },
  {
   "cell_type": "code",
   "execution_count": null,
   "metadata": {},
   "outputs": [],
   "source": [
    "# Formando gráficos\n",
    "import plotly.express as px\n",
    "\n",
    "for coluna in dados.columns:\n",
    "    grafico = px.histogram(dados, x=coluna, color=\"cancelou\")\n",
    "    grafico.show()"
   ]
  },
  {
   "cell_type": "code",
   "execution_count": null,
   "metadata": {},
   "outputs": [],
   "source": [
    "# -- Depois da 4º ligação de atendimento, não possui mais clientes\n",
    "        # Tentar resolver o problema no cliente até no máximo 3 ligações\n",
    "\n",
    "# -- Todos dos planos mensais cancelaram\n",
    "        # Fazer propostas interessantes para o clientes para assinarem planos anuis e trimestrais\n",
    "\n",
    "# -- Depois de 20 dias de atrasos, todos cancelam\n",
    "        # Tentar resolver os todos os atrasos até em 10 dias (Política de empresa)"
   ]
  },
  {
   "cell_type": "code",
   "execution_count": null,
   "metadata": {},
   "outputs": [],
   "source": [
    "# Analisando possível diminuição na taxa de cancelamento\n",
    "\n",
    "dados = dados[dados['duracao_contrato']!='Monthly'] # tabela sem o contrato mensal\n",
    "dados = dados[dados['ligacoes_callcenter']<=4]      # tabela sem ligações +4 vezes\n",
    "dados = dados[dados['dias_atraso']<=20]             # sem atrasos no pagamento +20 dias\n",
    "\n",
    "display(dados['cancelou'].value_counts(normalize=True))\n"
   ]
  }
 ],
 "metadata": {
  "kernelspec": {
   "display_name": "base",
   "language": "python",
   "name": "python3"
  },
  "language_info": {
   "codemirror_mode": {
    "name": "ipython",
    "version": 3
   },
   "file_extension": ".py",
   "mimetype": "text/x-python",
   "name": "python",
   "nbconvert_exporter": "python",
   "pygments_lexer": "ipython3",
   "version": "3.11.5"
  },
  "orig_nbformat": 4
 },
 "nbformat": 4,
 "nbformat_minor": 2
}
